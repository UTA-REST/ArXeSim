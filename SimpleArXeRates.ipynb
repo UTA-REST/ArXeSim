{
 "cells": [
  {
   "cell_type": "code",
   "execution_count": null,
   "metadata": {},
   "outputs": [],
   "source": [
    "# Xe/Ar Scintillation Yield Calculation by B.J.P. Jones, UTA. Questions? ben.jones@uta.edu\n",
    "\n",
    "import Backend\n",
    "from ipywidgets import interact, interactive, fixed, interact_manual\n",
    "\n",
    "%matplotlib inline\n",
    "\n",
    "w=interactive(Backend.SolveAndPlot, Log_XeConc=(0,3,0.1),k_ArAr1_Xe_ArXe=(0,500),k_ArAr3_Xe_ArXe=(0,500),k_ArXe_Xe_XeXe1 = (0,500) ,k_ArXe_Xe_XeXe3 = (0,500),Ar3NonRadiative=(1000,6000),EField=(0,500))\n",
    "display(w)"
   ]
  }
 ],
 "metadata": {
  "kernelspec": {
   "display_name": "Python 3",
   "language": "python",
   "name": "python3"
  },
  "language_info": {
   "codemirror_mode": {
    "name": "ipython",
    "version": 2
   },
   "file_extension": ".py",
   "mimetype": "text/x-python",
   "name": "python",
   "nbconvert_exporter": "python",
   "pygments_lexer": "ipython2",
   "version": "2.7.15"
  }
 },
 "nbformat": 4,
 "nbformat_minor": 2
}
