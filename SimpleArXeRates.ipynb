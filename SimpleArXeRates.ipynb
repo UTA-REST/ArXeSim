{
 "cells": [
  {
   "cell_type": "code",
   "execution_count": 2,
   "metadata": {},
   "outputs": [
    {
     "data": {
      "application/vnd.jupyter.widget-view+json": {
       "model_id": "6bed2361adca40eb819e59f2c15bdf5a",
       "version_major": 2,
       "version_minor": 0
      },
      "text/plain": [
       "aW50ZXJhY3RpdmUoY2hpbGRyZW49KEZsb2F0U2xpZGVyKHZhbHVlPTEuMCwgZGVzY3JpcHRpb249dSdMb2dfWGVDb25jJywgbWF4PTMuMCksIEludFNsaWRlcih2YWx1ZT0xMDAsIGRlc2NyaXDigKY=\n"
      ]
     },
     "metadata": {},
     "output_type": "display_data"
    }
   ],
   "source": [
    "import Backend\n",
    "from ipywidgets import interact, interactive, fixed, interact_manual\n",
    "\n",
    "%matplotlib inline\n",
    "\n",
    "w=interactive(Backend.SolveAndPlot, Log_XeConc=(0,3,0.1),k_ArAr1_Xe_ArXe=(0,1000),k_ArAr3_Xe_ArXe=(0,1000),k_ArXe_Xe_XeXe1 = (0,1000) ,k_ArXe_Xe_XeXe3 = (0,1000),continuous_update=False)\n",
    "display(w)"
   ]
  },
  {
   "cell_type": "code",
   "execution_count": null,
   "metadata": {},
   "outputs": [],
   "source": []
  }
 ],
 "metadata": {
  "kernelspec": {
   "display_name": "Python 3",
   "language": "python",
   "name": "python3"
  },
  "language_info": {
   "codemirror_mode": {
    "name": "ipython",
    "version": 2
   },
   "file_extension": ".py",
   "mimetype": "text/x-python",
   "name": "python",
   "nbconvert_exporter": "python",
   "pygments_lexer": "ipython2",
   "version": "2.7.15"
  }
 },
 "nbformat": 4,
 "nbformat_minor": 2
}
